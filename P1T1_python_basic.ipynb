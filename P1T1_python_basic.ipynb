{
  "nbformat": 4,
  "nbformat_minor": 0,
  "metadata": {
    "colab": {
      "name": "P1T1_python_basic.ipynb",
      "provenance": [],
      "toc_visible": true,
      "collapsed_sections": []
    },
    "kernelspec": {
      "name": "python3",
      "display_name": "Python 3"
    },
    "language_info": {
      "name": "python"
    }
  },
  "cells": [
    {
      "cell_type": "markdown",
      "source": [
        "#Metadata:\n",
        "\n",
        "---\n",
        "\n",
        "\n",
        "\n",
        "*   @Autor: Christian Montes\n",
        "*   @Date: 2022/02/12\n",
        "*   @Description: This python notebook shows basic exercises\n",
        "\n",
        "\n",
        "\n"
      ],
      "metadata": {
        "id": "tM_Uzi9sykBw"
      }
    },
    {
      "cell_type": "markdown",
      "source": [
        "#Basic Exercises"
      ],
      "metadata": {
        "id": "niRFz7v8z8Jg"
      }
    },
    {
      "cell_type": "markdown",
      "source": [
        "#Exercise 1: Products + IVA"
      ],
      "metadata": {
        "id": "--ZgDzeB0DP4"
      }
    },
    {
      "cell_type": "code",
      "source": [
        "product1= int(input(\"Input first product: \"))\n",
        "product2= int(input(\"Input second product: \"))\n",
        "product3= int(input(\"Input third product: \"))\n",
        "sum = product1 + product2 + product3\n",
        "iva = sum * 0.19\n",
        "total = sum + iva\n",
        "print(\"Gross value: \", sum, \"\\n TOTAL: \", total)"
      ],
      "metadata": {
        "colab": {
          "base_uri": "https://localhost:8080/"
        },
        "id": "0tqWu83E0qhp",
        "outputId": "b9e91d2c-4f17-4d00-87b0-d1bfbbb4951d"
      },
      "execution_count": 39,
      "outputs": [
        {
          "output_type": "stream",
          "name": "stdout",
          "text": [
            "Input first product: 8\n",
            "Input second product: 3\n",
            "Input third product: 5\n",
            "Gross value:  16 \n",
            " TOTAL:  19.04\n"
          ]
        }
      ]
    },
    {
      "cell_type": "markdown",
      "source": [
        "###Python Version\n"
      ],
      "metadata": {
        "id": "cfU9-Mum3tTp"
      }
    },
    {
      "cell_type": "markdown",
      "source": [
        "Calculate Highest"
      ],
      "metadata": {
        "id": "t9wmaQwNCux5"
      }
    },
    {
      "cell_type": "code",
      "source": [
        "n1,n2, n3 = input(\"Input First, Second and Third number with , separate: \").split(\",\")\n",
        "if (n1>n2 and n1>n3):\n",
        "  print(\"The Highest number is :\"+str(n1))\n",
        "elif (n1>n2 and n2 >n3):\n",
        "  print(\"The Highest number is :\"+str(n2))\n",
        "else:\n",
        "  print(\"The Highest number is :\"+str(n3))"
      ],
      "metadata": {
        "id": "qd-TxBRC3zdw",
        "colab": {
          "base_uri": "https://localhost:8080/"
        },
        "outputId": "6b81bd1e-275d-409b-c7de-71b50d877902"
      },
      "execution_count": 31,
      "outputs": [
        {
          "output_type": "stream",
          "name": "stdout",
          "text": [
            "Input First, Second and Third number with , separate: 5,8,3\n",
            "The Highest number is :3\n"
          ]
        }
      ]
    },
    {
      "cell_type": "code",
      "source": [
        "numbers = num1,num2,num3 = input(\"Input First, Second and Third product with , separate: \").split(\",\")\n",
        "\n",
        "print(\"The Highest number is :\"+str(max(int(num1),int(num2),int(num3))))\n",
        "print(\"The Lowest number is :\"+str(min(int(num1),int(num2),int(num3))))"
      ],
      "metadata": {
        "id": "T5qtFdnx6KjJ",
        "colab": {
          "base_uri": "https://localhost:8080/"
        },
        "outputId": "54313052-940f-41c0-d982-69967cadaab3"
      },
      "execution_count": 36,
      "outputs": [
        {
          "output_type": "stream",
          "name": "stdout",
          "text": [
            "Input First, Second and Third product with , separate: 5,2,4\n",
            "The Highest number is :5\n",
            "The Lowest number is :2\n"
          ]
        }
      ]
    },
    {
      "cell_type": "code",
      "source": [
        "lista=list(range(1,13))\n",
        "print(lista+lista[::-1])"
      ],
      "metadata": {
        "id": "ihr5g5jT9jkw",
        "colab": {
          "base_uri": "https://localhost:8080/"
        },
        "outputId": "e38a526b-2614-4d2c-ef99-0f4817db89ef"
      },
      "execution_count": 10,
      "outputs": [
        {
          "output_type": "stream",
          "name": "stdout",
          "text": [
            "[1, 2, 3, 4, 5, 6, 7, 8, 9, 10, 11, 12, 12, 11, 10, 9, 8, 7, 6, 5, 4, 3, 2, 1]\n"
          ]
        }
      ]
    }
  ]
}
